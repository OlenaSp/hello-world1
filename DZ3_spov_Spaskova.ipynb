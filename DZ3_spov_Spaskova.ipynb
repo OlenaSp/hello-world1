{
 "cells": [
  {
   "cell_type": "code",
   "execution_count": 1,
   "metadata": {
    "collapsed": true
   },
   "outputs": [],
   "source": [
    "def function_1_1(my_list, n):\n",
    "  result = 0\n",
    "  for x in my_list:\n",
    "    if x <= n:\n",
    "      result += x\n",
    "  return result"
   ]
  },
  {
   "cell_type": "code",
   "execution_count": 2,
   "metadata": {
    "collapsed": false
   },
   "outputs": [
    {
     "name": "stdout",
     "output_type": "stream",
     "text": [
      "31\n",
      "20\n",
      "12\n",
      "18\n",
      "9\n",
      "0\n"
     ]
    }
   ],
   "source": [
    "print function_1_1([1, 2, 3, 4, 5, 6, 3, 7], 7)\n",
    "print function_1_1([1, 2, 3, 4, 4, 3, 2, 1], 7)\n",
    "print function_1_1([1, 2, 3, 4, 4, 3, 2, 1], 3)\n",
    "print function_1_1([1, 2, 3, 4, 5, 6, 3, 7], 5)\n",
    "print function_1_1([1, 2, 3, 4, 5, 6, 3, 7], 3)\n",
    "print function_1_1([1, 2, 3, 4, 5, 6, 3, 7], 0)"
   ]
  },
  {
   "cell_type": "code",
   "execution_count": 3,
   "metadata": {
    "collapsed": false
   },
   "outputs": [
    {
     "name": "stdout",
     "output_type": "stream",
     "text": [
      "31\n"
     ]
    }
   ],
   "source": [
    "print function_1_1([1, 2, 3, 4, 5, 6, 3, 7], 7)"
   ]
  },
  {
   "cell_type": "code",
   "execution_count": 4,
   "metadata": {
    "collapsed": false
   },
   "outputs": [
    {
     "name": "stdout",
     "output_type": "stream",
     "text": [
      "20\n"
     ]
    }
   ],
   "source": [
    "print function_1_1([1, 2, 3, 4, 4, 3, 2, 1], 7)"
   ]
  },
  {
   "cell_type": "code",
   "execution_count": 5,
   "metadata": {
    "collapsed": false
   },
   "outputs": [
    {
     "name": "stdout",
     "output_type": "stream",
     "text": [
      "12\n"
     ]
    }
   ],
   "source": [
    "print function_1_1([1, 2, 3, 4, 4, 3, 2, 1], 3)"
   ]
  },
  {
   "cell_type": "code",
   "execution_count": 6,
   "metadata": {
    "collapsed": false
   },
   "outputs": [
    {
     "name": "stdout",
     "output_type": "stream",
     "text": [
      "18\n"
     ]
    }
   ],
   "source": [
    "print function_1_1([1, 2, 3, 4, 5, 6, 3, 7], 5)"
   ]
  },
  {
   "cell_type": "code",
   "execution_count": 7,
   "metadata": {
    "collapsed": false
   },
   "outputs": [
    {
     "name": "stdout",
     "output_type": "stream",
     "text": [
      "9\n"
     ]
    }
   ],
   "source": [
    "print function_1_1([1, 2, 3, 4, 5, 6, 3, 7], 3)"
   ]
  },
  {
   "cell_type": "code",
   "execution_count": 8,
   "metadata": {
    "collapsed": false
   },
   "outputs": [
    {
     "name": "stdout",
     "output_type": "stream",
     "text": [
      "0\n"
     ]
    }
   ],
   "source": [
    "print function_1_1([1, 2, 3, 4, 5, 6, 3, 7], 0)"
   ]
  },
  {
   "cell_type": "code",
   "execution_count": 14,
   "metadata": {
    "collapsed": false
   },
   "outputs": [
    {
     "name": "stdout",
     "output_type": "stream",
     "text": [
      "['Ivanov', 'Petrov', 'Sidorov']\n",
      "['Ivanov', 'Sidorov']\n",
      "['Sidorov']\n",
      "[]\n",
      "['Sidorov']\n",
      "['Ivanov', 'Petrov']\n",
      "['Petrov']\n"
     ]
    }
   ],
   "source": [
    "def function_1_2(my_list, dept):\n",
    "  indepted_people = dict()\n",
    "  high_dept = []\n",
    "  for record in my_list:\n",
    "    if record[0] in indepted_people:\n",
    "      indepted_people[record[0]] += record[1]\n",
    "    else:\n",
    "      indepted_people[record[0]] = record[1]\n",
    "    \n",
    "    if indepted_people[record[0]] > dept:\n",
    "      high_dept.append(record[0])\n",
    "    \n",
    "  high_dept.sort()\n",
    "  return high_dept\n",
    "    \n",
    "    \n",
    "print function_1_2([('Ivanov', 1), ('Petrov', 2), ('Ivanov', 2), ('Sidorov', 4)], 1)\n",
    "print function_1_2([('Ivanov', 1), ('Petrov', 2), ('Ivanov', 2), ('Sidorov', 4)], 2)\n",
    "print function_1_2([('Ivanov', 1), ('Petrov', 2), ('Ivanov', 2), ('Sidorov', 4)], 3)\n",
    "print function_1_2([('Ivanov', 1), ('Petrov', 2), ('Ivanov', 2), ('Sidorov', 4)], 4)\n",
    "print function_1_2([('Ivanov', 1), ('Petrov', 2), ('Ivanov', 1), ('Sidorov', 4)], 2)\n",
    "print function_1_2([('Ivanov', 1), ('Petrov', 2), ('Ivanov', 2), ('Petrov', 4)], 2)\n",
    "print function_1_2([('Ivanov', 1), ('Petrov', 2), ('Ivanov', 2), ('Petrov', 4)], 3)"
   ]
  },
  {
   "cell_type": "code",
   "execution_count": null,
   "metadata": {
    "collapsed": true
   },
   "outputs": [],
   "source": []
  }
 ],
 "metadata": {
  "kernelspec": {
   "display_name": "Python 2",
   "language": "python",
   "name": "python2"
  },
  "language_info": {
   "codemirror_mode": {
    "name": "ipython",
    "version": 2
   },
   "file_extension": ".py",
   "mimetype": "text/x-python",
   "name": "python",
   "nbconvert_exporter": "python",
   "pygments_lexer": "ipython2",
   "version": "2.7.13"
  }
 },
 "nbformat": 4,
 "nbformat_minor": 2
}
